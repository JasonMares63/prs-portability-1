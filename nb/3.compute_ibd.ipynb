{
 "cells": [
  {
   "cell_type": "code",
   "execution_count": 1,
   "metadata": {},
   "outputs": [],
   "source": [
    "import pathlib\n",
    "\n",
    "import numpy as np\n",
    "import pandas as pd\n",
    "import tqdm"
   ]
  },
  {
   "cell_type": "code",
   "execution_count": 2,
   "metadata": {},
   "outputs": [],
   "source": [
    "test_iids = pd.read_csv('../data/ukb_populations/test_all.tsv', sep='\\t', usecols=['IID'])"
   ]
  },
  {
   "cell_type": "code",
   "execution_count": null,
   "metadata": {},
   "outputs": [],
   "source": [
    "total_sums = pd.DataFrame()\n",
    "\n",
    "reader = pd.read_csv('../data/ukb_distances/ibd_combined.txt.gz', chunksize=1_000_000, \n",
    "                     sep='\\s+', usecols=['IID1', 'IID2', 'PI_HAT', 'DST'])\n",
    "\n",
    "for chunk_df in tqdm.tqdm_notebook(reader, total=750):\n",
    "    chunk_sums_df = (\n",
    "        chunk_df\n",
    "        .merge(test_iids, left_on='IID1', right_on='IID', how='left')\n",
    "        .merge(test_iids, left_on='IID2', right_on='IID', how='left')\n",
    "        .assign(test_train=lambda df: np.logical_xor(pd.isna(df['IID_x']), pd.isna(df['IID_y'])))\n",
    "        .query('test_train')\n",
    "    )\n",
    "    if chunk_sums_df.shape[0] == 0:\n",
    "        continue\n",
    "    \n",
    "    chunk_sums_df = (\n",
    "        chunk_sums_df\n",
    "        .assign(\n",
    "            test_iid=lambda df: df['IID_x'].combine_first(df['IID_y']).astype(int),\n",
    "            train_iid=lambda df: df.apply(\n",
    "                lambda row: row['IID1'] if row['IID1'] != row['test_iid'] \n",
    "                else row['IID2'], axis=1).astype(int)\n",
    "        )\n",
    "        .filter(items=['test_iid', 'train_iid', 'PI_HAT', 'DST'])\n",
    "        .groupby('test_iid')\n",
    "        .agg({'train_iid': 'count', 'PI_HAT': 'sum', 'DST': 'sum'})\n",
    "    )\n",
    "    total_sums = total_sums.add(chunk_sums_df, fill_value=0)\n",
    "\n",
    "total_sums = total_sums.reset_index()\n",
    "    \n",
    "total_sums.to_csv('../data/ukb_distances/ibd_complete.tsv', sep='\\t', index=False)\n",
    "\n",
    "total_sums.head()"
   ]
  },
  {
   "cell_type": "code",
   "execution_count": 4,
   "metadata": {},
   "outputs": [
    {
     "data": {
      "text/plain": [
       "(32816, 4)"
      ]
     },
     "execution_count": 4,
     "metadata": {},
     "output_type": "execute_result"
    }
   ],
   "source": [
    "total_sums.shape"
   ]
  }
 ],
 "metadata": {
  "kernelspec": {
   "display_name": "Python [conda env:geno] *",
   "language": "python",
   "name": "conda-env-geno-py"
  },
  "language_info": {
   "codemirror_mode": {
    "name": "ipython",
    "version": 3
   },
   "file_extension": ".py",
   "mimetype": "text/x-python",
   "name": "python",
   "nbconvert_exporter": "python",
   "pygments_lexer": "ipython3",
   "version": "3.7.3"
  }
 },
 "nbformat": 4,
 "nbformat_minor": 4
}
