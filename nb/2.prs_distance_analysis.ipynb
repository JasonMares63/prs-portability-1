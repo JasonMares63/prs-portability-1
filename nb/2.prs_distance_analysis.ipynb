{
 "cells": [
  {
   "cell_type": "code",
   "execution_count": 1,
   "metadata": {},
   "outputs": [
    {
     "name": "stderr",
     "output_type": "stream",
     "text": [
      "── \u001b[1mAttaching packages\u001b[22m ─────────────────────────────────────── tidyverse 1.2.1 ──\n",
      "\n",
      "\u001b[32m✔\u001b[39m \u001b[34mggplot2\u001b[39m 3.3.0     \u001b[32m✔\u001b[39m \u001b[34mpurrr  \u001b[39m 0.3.4\n",
      "\u001b[32m✔\u001b[39m \u001b[34mtibble \u001b[39m 3.0.1     \u001b[32m✔\u001b[39m \u001b[34mdplyr  \u001b[39m 0.8.5\n",
      "\u001b[32m✔\u001b[39m \u001b[34mtidyr  \u001b[39m 1.0.2     \u001b[32m✔\u001b[39m \u001b[34mstringr\u001b[39m 1.4.0\n",
      "\u001b[32m✔\u001b[39m \u001b[34mreadr  \u001b[39m 1.3.1     \u001b[32m✔\u001b[39m \u001b[34mforcats\u001b[39m 0.5.0\n",
      "\n",
      "── \u001b[1mConflicts\u001b[22m ────────────────────────────────────────── tidyverse_conflicts() ──\n",
      "\u001b[31m✖\u001b[39m \u001b[34mdplyr\u001b[39m::\u001b[32mfilter()\u001b[39m masks \u001b[34mstats\u001b[39m::filter()\n",
      "\u001b[31m✖\u001b[39m \u001b[34mdplyr\u001b[39m::\u001b[32mlag()\u001b[39m    masks \u001b[34mstats\u001b[39m::lag()\n",
      "\n",
      "── \u001b[1mAttaching packages\u001b[22m ────────────────────────────────────── tidymodels 0.1.0 ──\n",
      "\n",
      "\u001b[32m✔\u001b[39m \u001b[34mbroom    \u001b[39m 0.5.6      \u001b[32m✔\u001b[39m \u001b[34mrsample  \u001b[39m 0.0.5 \n",
      "\u001b[32m✔\u001b[39m \u001b[34mdials    \u001b[39m 0.0.6      \u001b[32m✔\u001b[39m \u001b[34mtune     \u001b[39m 0.1.0 \n",
      "\u001b[32m✔\u001b[39m \u001b[34minfer    \u001b[39m 0.5.1      \u001b[32m✔\u001b[39m \u001b[34mworkflows\u001b[39m 0.1.1 \n",
      "\u001b[32m✔\u001b[39m \u001b[34mparsnip  \u001b[39m 0.1.0      \u001b[32m✔\u001b[39m \u001b[34myardstick\u001b[39m 0.0.6 \n",
      "\u001b[32m✔\u001b[39m \u001b[34mrecipes  \u001b[39m 0.1.12     \n",
      "\n",
      "── \u001b[1mConflicts\u001b[22m ───────────────────────────────────────── tidymodels_conflicts() ──\n",
      "\u001b[31m✖\u001b[39m \u001b[34mscales\u001b[39m::\u001b[32mdiscard()\u001b[39m masks \u001b[34mpurrr\u001b[39m::discard()\n",
      "\u001b[31m✖\u001b[39m \u001b[34mdplyr\u001b[39m::\u001b[32mfilter()\u001b[39m   masks \u001b[34mstats\u001b[39m::filter()\n",
      "\u001b[31m✖\u001b[39m \u001b[34mrecipes\u001b[39m::\u001b[32mfixed()\u001b[39m  masks \u001b[34mstringr\u001b[39m::fixed()\n",
      "\u001b[31m✖\u001b[39m \u001b[34mdplyr\u001b[39m::\u001b[32mlag()\u001b[39m      masks \u001b[34mstats\u001b[39m::lag()\n",
      "\u001b[31m✖\u001b[39m \u001b[34mdials\u001b[39m::\u001b[32mmargin()\u001b[39m   masks \u001b[34mggplot2\u001b[39m::margin()\n",
      "\u001b[31m✖\u001b[39m \u001b[34myardstick\u001b[39m::\u001b[32mspec()\u001b[39m masks \u001b[34mreadr\u001b[39m::spec()\n",
      "\u001b[31m✖\u001b[39m \u001b[34mrecipes\u001b[39m::\u001b[32mstep()\u001b[39m   masks \u001b[34mstats\u001b[39m::step()\n",
      "\n"
     ]
    }
   ],
   "source": [
    "library(tidyverse)\n",
    "library(tidymodels)"
   ]
  },
  {
   "cell_type": "markdown",
   "metadata": {},
   "source": [
    "## Covariates, phenotypes, population labels"
   ]
  },
  {
   "cell_type": "code",
   "execution_count": 2,
   "metadata": {},
   "outputs": [],
   "source": [
    "# Load covariates (age, sex, interactions, PCs)\n",
    "covariates <- read_tsv('../data/ukb_merged/covar_all_samples.covar', \n",
    "                       col_types = cols(.default = col_double())) %>%\n",
    "    select(-'#FID')\n",
    "\n",
    "# Load phenotypes\n",
    "phenotypes <- read_delim('../data/phenotypes/full_phenotypes.pheno', \n",
    "                         delim = ' ', trim_ws = T, col_types = cols(.default = col_double())) %>%\n",
    "    select(-'#FID')"
   ]
  },
  {
   "cell_type": "code",
   "execution_count": 3,
   "metadata": {},
   "outputs": [],
   "source": [
    "test_pop_files <- c('../data/ukb_populations/AFR_all.txt', '../data/ukb_populations/AMR_all.txt',\n",
    "                    '../data/ukb_populations/EAS_all.txt', '../data/ukb_populations/SAS_all.txt', \n",
    "                    '../data/ukb_populations/EUR_test.txt')\n",
    "\n",
    "test_individuals <- test_pop_files %>%\n",
    "    purrr::map(function(path) read_delim(path, delim = ' ', trim_ws = T, \n",
    "                                         col_types = cols(.default = col_double()))) %>%\n",
    "    bind_rows()\n",
    "               \n",
    "test_individuals %>% write_tsv('../data/ukb_populations/test_all.tsv')\n",
    "\n",
    "test_iids <- test_individuals %>% select(IID)"
   ]
  },
  {
   "cell_type": "markdown",
   "metadata": {},
   "source": [
    "## Distance metrics"
   ]
  },
  {
   "cell_type": "code",
   "execution_count": 4,
   "metadata": {},
   "outputs": [],
   "source": [
    "# Pairwise Fst between individuals in the test population and all individuals from the train population\n",
    "fst_df <- read_tsv('../data/ukb_populations/final_fst.tsv', \n",
    "                   col_types = cols(.default = col_double())) %>%\n",
    "    select(IID, fst = weighted_fst)"
   ]
  },
  {
   "cell_type": "code",
   "execution_count": 29,
   "metadata": {},
   "outputs": [],
   "source": [
    "# Compute 1 and 2 norm PC distances\n",
    "train_iids <- read_delim('../data/ukb_populations/EUR_all.txt', delim = ' ', trim_ws = T,\n",
    "                         col_types = cols_only('IID' = col_double())) %>%\n",
    "    anti_join(test_iids, by = 'IID')\n",
    "\n",
    "set.seed(100)\n",
    "\n",
    "train_pcs <- covariates %>% \n",
    "    select(IID, starts_with(\"PC\")) %>%\n",
    "    drop_na() %>%\n",
    "    inner_join(train_iids %>% sample_n(10000), by = 'IID') %>%\n",
    "    select(-IID)\n",
    "\n",
    "# Compute the mean distance between X and Y\n",
    "compute_mean_dist <- function(X, Y, metric, n_cols = 20) {\n",
    "    rdist::cdist(\n",
    "        X %>% magrittr::extract(1:n_cols), \n",
    "        Y %>% magrittr::extract(1:n_cols), \n",
    "        metric = metric\n",
    "    ) %>% mean\n",
    "}\n",
    "\n",
    "test_mean_distances <- covariates %>% \n",
    "    select(IID, starts_with(\"PC\")) %>%\n",
    "    drop_na() %>%\n",
    "    inner_join(test_iids, by = 'IID') %>%\n",
    "    nest(data = -IID) %>%\n",
    "    mutate(\n",
    "        manhattan_20 = data %>% map_dbl(compute_mean_dist, Y = train_pcs, metric = 'manhattan', n_cols = 20),\n",
    "        euclidean_20 = data %>% map_dbl(compute_mean_dist, Y = train_pcs, metric = 'euclidean', n_cols = 20),        \n",
    "    ) %>% \n",
    "    select(-data)\n",
    "\n",
    "test_mean_distances %>% head(2)"
   ]
  },
  {
   "cell_type": "code",
   "execution_count": 30,
   "metadata": {},
   "outputs": [],
   "source": [
    "ibs_ibd_df <- read_tsv('../data/ukb_distances/ibd_complete.tsv', \n",
    "                       col_types = cols(.default = col_double())) %>%\n",
    "    mutate(\n",
    "        ibs = DST / train_iid,\n",
    "        ibd = PI_HAT / train_iid,\n",
    "    ) %>%\n",
    "    select(IID = test_iid, ibs, ibd)"
   ]
  },
  {
   "cell_type": "code",
   "execution_count": null,
   "metadata": {},
   "outputs": [],
   "source": [
    "distance_df <- fst_df %>%\n",
    "    full_join(test_mean_distances, by = \"IID\") %>%\n",
    "    full_join(ibs_ibd_df, by = 'IID') %>%\n",
    "    pivot_longer(-IID, names_to = 'distance_metric', values_to = 'distance')\n",
    "\n",
    "distance_df %>% head(2)"
   ]
  },
  {
   "cell_type": "code",
   "execution_count": 33,
   "metadata": {},
   "outputs": [],
   "source": [
    "distance_df <- distance_df %>%\n",
    "    filter(!distance_metric %>% str_detect('5'))"
   ]
  },
  {
   "cell_type": "markdown",
   "metadata": {},
   "source": [
    "## PRS"
   ]
  },
  {
   "cell_type": "code",
   "execution_count": 34,
   "metadata": {},
   "outputs": [],
   "source": [
    "# Create a single file for all polygenic score predictions (for test only)\n",
    "prs_files <- list.files(path = '../data/prs/', pattern = '[A-Za-z]_[0-4]_scores.sscore', full.names = T)\n",
    "\n",
    "format_prs_file <- function(file_path, iids_to_keep) {\n",
    "    # Get relevant information from the file name\n",
    "    trait_threshold <- file_path %>% str_extract('(?<=//)[A-Za-z]+_[0-4](?=_scores.sscore)')\n",
    "    rename_cols <- list()\n",
    "    rename_cols[[trait_threshold]] = 'SCORE1_AVG'\n",
    "        \n",
    "    col_types <- cols_only('IID' = col_double(), 'SCORE1_AVG' = col_double())\n",
    "    read_tsv(file_path, col_types = col_types) %>%\n",
    "        inner_join(iids_to_keep, by = 'IID') %>%\n",
    "        rename(!!!rename_cols)\n",
    "}\n",
    "\n",
    "prs_test_individuals_df <- prs_files %>%\n",
    "    map(format_prs_file, iids_to_keep = test_iids) %>%\n",
    "    reduce(inner_join, by = \"IID\")\n",
    "\n",
    "prs_test_individuals_df %>% nrow\n",
    "prs_test_individuals_df %>% write_tsv('../data/prs/combined_test_prs.tsv')"
   ]
  },
  {
   "cell_type": "code",
   "execution_count": null,
   "metadata": {},
   "outputs": [],
   "source": [
    "# Pivot PRS and phenotypes to long format\n",
    "tidy_prs <- prs_test_individuals_df %>% \n",
    "    pivot_longer(-IID, names_to = 'phenotype_threshold', values_to = 'prs') %>%\n",
    "    separate(phenotype_threshold, c('phenotype', 'threshold'))\n",
    "\n",
    "tidy_phenotypes <- phenotypes %>%\n",
    "    pivot_longer(-IID, names_to = 'phenotype', values_to = 'phenotype_value')\n",
    "\n",
    "# Combine covariates, phenotypes, and PRS into a single table\n",
    "full_test_df <- test_iids %>%\n",
    "    inner_join(covariates, by = 'IID') %>%\n",
    "    inner_join(tidy_phenotypes, by = 'IID') %>%\n",
    "    inner_join(tidy_prs, by = c('IID', 'phenotype'))\n",
    "\n",
    "full_test_df %>% nrow\n",
    "full_test_df %>% head(2)"
   ]
  },
  {
   "cell_type": "markdown",
   "metadata": {},
   "source": [
    "## Evaluation"
   ]
  },
  {
   "cell_type": "code",
   "execution_count": 36,
   "metadata": {},
   "outputs": [],
   "source": [
    "compute_incremental_r2 <- function(df) {\n",
    "    nested_formula = as.formula(phenotype_value ~ sex_covar + age + age_sq + age_sex + age_sq_sex + \n",
    "                                PC1_AVG + PC2_AVG + PC3_AVG + PC4_AVG + PC5_AVG + PC6_AVG + PC7_AVG + \n",
    "                                PC8_AVG + PC9_AVG + PC10_AVG)\n",
    "    \n",
    "    nested = lm(nested_formula, data = as_tibble(df))\n",
    "    full = lm(nested_formula %>% update(~ . + prs), data = as_tibble(df))\n",
    "    \n",
    "    # Return incremental R^2\n",
    "    summary(full)$adj.r.squared - summary(nested)$adj.r.squared\n",
    "}\n",
    "\n",
    "bootstrapped_evaluation <- function(data, times = 10) {\n",
    "    data %>%\n",
    "        bootstraps(times = times) %>%\n",
    "        mutate(bootstrap_incremental_r2 = splits %>% map_dbl(compute_incremental_r2)) %>%\n",
    "        select(-splits)\n",
    "}"
   ]
  },
  {
   "cell_type": "code",
   "execution_count": 37,
   "metadata": {},
   "outputs": [
    {
     "data": {
      "text/html": [
       "<table>\n",
       "<caption>A tibble: 2 × 10</caption>\n",
       "<thead>\n",
       "\t<tr><th scope=col>phenotype</th><th scope=col>threshold</th><th scope=col>distance_metric</th><th scope=col>distance_group</th><th scope=col>distance_group_mean</th><th scope=col>incremental_r2</th><th scope=col>bootstrap_iter</th><th scope=col>bootstrap_incremental_r2</th><th scope=col>conf.lower</th><th scope=col>conf.upper</th></tr>\n",
       "\t<tr><th scope=col>&lt;chr&gt;</th><th scope=col>&lt;chr&gt;</th><th scope=col>&lt;chr&gt;</th><th scope=col>&lt;int&gt;</th><th scope=col>&lt;dbl&gt;</th><th scope=col>&lt;dbl&gt;</th><th scope=col>&lt;chr&gt;</th><th scope=col>&lt;dbl&gt;</th><th scope=col>&lt;dbl&gt;</th><th scope=col>&lt;dbl&gt;</th></tr>\n",
       "</thead>\n",
       "<tbody>\n",
       "\t<tr><td>Basophil</td><td>0</td><td>fst</td><td>5</td><td>0.1294594</td><td>0.001729775</td><td>Bootstrap01</td><td>0.003045868</td><td>0.0006508898</td><td>0.003068478</td></tr>\n",
       "\t<tr><td>Basophil</td><td>0</td><td>fst</td><td>5</td><td>0.1294594</td><td>0.001729775</td><td>Bootstrap02</td><td>0.001498795</td><td>0.0006508898</td><td>0.003068478</td></tr>\n",
       "</tbody>\n",
       "</table>\n"
      ],
      "text/latex": [
       "A tibble: 2 × 10\n",
       "\\begin{tabular}{llllllllll}\n",
       " phenotype & threshold & distance\\_metric & distance\\_group & distance\\_group\\_mean & incremental\\_r2 & bootstrap\\_iter & bootstrap\\_incremental\\_r2 & conf.lower & conf.upper\\\\\n",
       " <chr> & <chr> & <chr> & <int> & <dbl> & <dbl> & <chr> & <dbl> & <dbl> & <dbl>\\\\\n",
       "\\hline\n",
       "\t Basophil & 0 & fst & 5 & 0.1294594 & 0.001729775 & Bootstrap01 & 0.003045868 & 0.0006508898 & 0.003068478\\\\\n",
       "\t Basophil & 0 & fst & 5 & 0.1294594 & 0.001729775 & Bootstrap02 & 0.001498795 & 0.0006508898 & 0.003068478\\\\\n",
       "\\end{tabular}\n"
      ],
      "text/markdown": [
       "\n",
       "A tibble: 2 × 10\n",
       "\n",
       "| phenotype &lt;chr&gt; | threshold &lt;chr&gt; | distance_metric &lt;chr&gt; | distance_group &lt;int&gt; | distance_group_mean &lt;dbl&gt; | incremental_r2 &lt;dbl&gt; | bootstrap_iter &lt;chr&gt; | bootstrap_incremental_r2 &lt;dbl&gt; | conf.lower &lt;dbl&gt; | conf.upper &lt;dbl&gt; |\n",
       "|---|---|---|---|---|---|---|---|---|---|\n",
       "| Basophil | 0 | fst | 5 | 0.1294594 | 0.001729775 | Bootstrap01 | 0.003045868 | 0.0006508898 | 0.003068478 |\n",
       "| Basophil | 0 | fst | 5 | 0.1294594 | 0.001729775 | Bootstrap02 | 0.001498795 | 0.0006508898 | 0.003068478 |\n",
       "\n"
      ],
      "text/plain": [
       "  phenotype threshold distance_metric distance_group distance_group_mean\n",
       "1 Basophil  0         fst             5              0.1294594          \n",
       "2 Basophil  0         fst             5              0.1294594          \n",
       "  incremental_r2 bootstrap_iter bootstrap_incremental_r2 conf.lower  \n",
       "1 0.001729775    Bootstrap01    0.003045868              0.0006508898\n",
       "2 0.001729775    Bootstrap02    0.001498795              0.0006508898\n",
       "  conf.upper \n",
       "1 0.003068478\n",
       "2 0.003068478"
      ]
     },
     "metadata": {},
     "output_type": "display_data"
    }
   ],
   "source": [
    "bootstrapped_df <- full_test_df %>% \n",
    "    inner_join(distance_df, by = 'IID') %>%\n",
    "    group_by(distance_metric) %>%\n",
    "    mutate(distance_group = distance %>% ntile(5)) %>%\n",
    "    ungroup %>%\n",
    "    group_by(distance_metric, distance_group) %>%\n",
    "    mutate(distance_group_mean = mean(distance)) %>%\n",
    "    ungroup %>%\n",
    "    nest(data = c(-phenotype, -threshold, -distance_metric, -distance_group, -distance_group_mean)) %>%\n",
    "    mutate(\n",
    "        incremental_r2 = data %>% map_dbl(compute_incremental_r2),\n",
    "        bootstrap_incremental_r2 = data %>% map(bootstrapped_evaluation, times = 10)\n",
    "    ) %>%\n",
    "    unnest(bootstrap_incremental_r2) %>%\n",
    "    select(-data, bootstrap_iter = id) %>%\n",
    "    # Add bootstrap summary information (while keeping the specific values)\n",
    "    group_by_at(vars(-bootstrap_iter, -bootstrap_incremental_r2)) %>%\n",
    "    mutate(\n",
    "        conf.lower = quantile(bootstrap_incremental_r2, probs = 0.025),\n",
    "        conf.upper = quantile(bootstrap_incremental_r2, probs = 0.975)\n",
    "    ) %>%\n",
    "    ungroup\n",
    "\n",
    "bootstrapped_df %>% write_tsv('../data/fst/multi_metric_bootstrap_evaluation.tsv')\n",
    "\n",
    "bootstrapped_df %>% head(2)"
   ]
  }
 ],
 "metadata": {
  "kernelspec": {
   "display_name": "R [conda env:geno] *",
   "language": "R",
   "name": "conda-env-geno-r"
  },
  "language_info": {
   "codemirror_mode": "r",
   "file_extension": ".r",
   "mimetype": "text/x-r-source",
   "name": "R",
   "pygments_lexer": "r",
   "version": "3.6.3"
  }
 },
 "nbformat": 4,
 "nbformat_minor": 4
}
